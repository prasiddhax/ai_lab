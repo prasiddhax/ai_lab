{
 "cells": [
  {
   "cell_type": "code",
   "execution_count": 1,
   "metadata": {},
   "outputs": [
    {
     "name": "stdout",
     "output_type": "stream",
     "text": [
      "Prime numbers between 1 and 100: [2, 3, 5, 7, 11, 13, 17, 19, 23, 29, 31, 37, 41, 43, 47, 53, 59, 61, 67, 71, 73, 79, 83, 89, 97]\n"
     ]
    }
   ],
   "source": [
    "def is_prime(num):\n",
    "    if num < 2:\n",
    "        return 0\n",
    "    for i in range(2, int(num**0.5) + 1):\n",
    "        if num % i == 0:\n",
    "            return 0\n",
    "    return 1\n",
    "\n",
    "start = int(input(\"Enter starting and ending range: \"))\n",
    "end= int(input())\n",
    "\n",
    "if start >= end:\n",
    "    print(\"Invalid range. Please make sure the starting number is less than the ending number.\")\n",
    "    exit()\n",
    "\n",
    "prime = []\n",
    "\n",
    "for number in range(start, end + 1):\n",
    "    if is_prime(number):\n",
    "        prime.append(number)\n",
    "\n",
    "\n",
    "print(f\"Prime numbers between {start} and {end}: {prime}\")"
   ]
  }
 ],
 "metadata": {
  "kernelspec": {
   "display_name": "myenv",
   "language": "python",
   "name": "python3"
  },
  "language_info": {
   "codemirror_mode": {
    "name": "ipython",
    "version": 3
   },
   "file_extension": ".py",
   "mimetype": "text/x-python",
   "name": "python",
   "nbconvert_exporter": "python",
   "pygments_lexer": "ipython3",
   "version": "3.10.13"
  }
 },
 "nbformat": 4,
 "nbformat_minor": 2
}
